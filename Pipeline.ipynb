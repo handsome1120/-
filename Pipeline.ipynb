{
  "nbformat": 4,
  "nbformat_minor": 0,
  "metadata": {
    "colab": {
      "provenance": []
    },
    "kernelspec": {
      "name": "python3",
      "display_name": "Python 3"
    },
    "language_info": {
      "name": "python"
    }
  },
  "cells": [
    {
      "cell_type": "markdown",
      "source": [
        "Pipeline介紹\n",
        "Transformers 庫中最基本的對象是pipeline()函數。它將模型與其必要的預處理和後處理步驟連接起來，使我們能夠通過直接輸入任何文字並獲得最終的答案：\n",
        "\n",
        "目前可用的一些pipeline是：\n",
        "\n",
        "特徵提取（獲取文字的向量表示）\n",
        "填充空缺\n",
        "ner（命名實體識別）\n",
        "問答\n",
        "情感分析\n",
        "文字摘要\n",
        "文字生成\n",
        "翻譯\n",
        "零樣本分類\n",
        "執行程式前，請先去Huggingface註冊帳號"
      ],
      "metadata": {
        "id": "H5dA0hvoBvsm"
      }
    },
    {
      "cell_type": "code",
      "execution_count": null,
      "metadata": {
        "id": "oopmorvIBo4Z"
      },
      "outputs": [],
      "source": [
        "!pip install transformers -U\n",
        "!pip install sentencepiece # unsupervised text tokenizer and detokenizer\n",
        "!pip install sacremoses # Tokenizer and Detokenizer"
      ]
    },
    {
      "cell_type": "markdown",
      "source": [
        "新增Haggingface Access Token至左方存取金鑰中"
      ],
      "metadata": {
        "id": "06VBStazB1CI"
      }
    },
    {
      "cell_type": "code",
      "source": [
        "from transformers import pipeline\n",
        "\n",
        "classifier = pipeline(\"sentiment-analysis\")\n",
        "classifier(\"你敢出去玩試看看\")"
      ],
      "metadata": {
        "id": "kCWCNr_XB3MA"
      },
      "execution_count": null,
      "outputs": []
    },
    {
      "cell_type": "code",
      "source": [
        "# 使用批次\n",
        "\n",
        "classifier(\n",
        "    [\"我覺得東西不好吃\", \"I love this cake\"]\n",
        ")"
      ],
      "metadata": {
        "id": "GH2zVI9lB44e"
      },
      "execution_count": null,
      "outputs": []
    },
    {
      "cell_type": "code",
      "source": [
        "from transformers import pipeline\n",
        "\n",
        "classifier = pipeline(\"zero-shot-classification\")\n",
        "classifier(\n",
        "    \"你敢出去玩試看看\",\n",
        "    candidate_labels=[\"出門\", \"留在家\", \"再問一次\"],\n",
        ")"
      ],
      "metadata": {
        "id": "1DZocVo8CD9A"
      },
      "execution_count": null,
      "outputs": []
    },
    {
      "cell_type": "code",
      "source": [
        "from transformers import pipeline\n",
        "\n",
        "generator = pipeline(\"text-generation\")\n",
        "generator(\"我等一下要去\", num_return_sequences = 2, max_length = 30)"
      ],
      "metadata": {
        "id": "AWY_rYyaCFr3"
      },
      "execution_count": null,
      "outputs": []
    },
    {
      "cell_type": "code",
      "source": [
        "generator(\"我等一下想吃\", num_return_sequences = 2, max_length = 30)"
      ],
      "metadata": {
        "id": "viFcgdGRCHCN"
      },
      "execution_count": null,
      "outputs": []
    },
    {
      "cell_type": "code",
      "source": [
        "from transformers import pipeline\n",
        "\n",
        "generator = pipeline(\"text-generation\", model=\"ckiplab/gpt2-base-chinese\")\n",
        "generator(\n",
        "    \"今天天氣真好，\",\n",
        "    max_length=30,\n",
        "    num_return_sequences=2,\n",
        ")"
      ],
      "metadata": {
        "id": "AFuSddQRCIUs"
      },
      "execution_count": null,
      "outputs": []
    },
    {
      "cell_type": "code",
      "source": [
        "from transformers import pipeline\n",
        "\n",
        "unmasker = pipeline(\"fill-mask\")\n",
        "unmasker(\"這堂課正在教人工<mask>慧有關於大型語<mask>模型.\", top_k=1)"
      ],
      "metadata": {
        "id": "_SuFqqEPCJtE"
      },
      "execution_count": null,
      "outputs": []
    },
    {
      "cell_type": "code",
      "source": [
        "from transformers import pipeline\n",
        "\n",
        "ner = pipeline(\"ner\", grouped_entities=True, model=\"gyr66/RoBERTa-ext-large-chinese-finetuned-ner\")\n",
        "ner(\"小明去參加苗栗的白沙屯媽祖繞境\")"
      ],
      "metadata": {
        "id": "IDFd_kLSCK4n"
      },
      "execution_count": null,
      "outputs": []
    },
    {
      "cell_type": "code",
      "source": [
        "from transformers import pipeline\n",
        "\n",
        "ner = pipeline(\"ner\", model = \"ckiplab/bert-base-chinese-ner\", grouped_entities=True)\n",
        "ner(\"我的名字叫陳小明，我在新竹明新科大上課。\")"
      ],
      "metadata": {
        "id": "jEd9gN68CMNG"
      },
      "execution_count": null,
      "outputs": []
    },
    {
      "cell_type": "markdown",
      "source": [
        "問答系統\n",
        "問答pipeline使用來自給定上下文回答問題："
      ],
      "metadata": {
        "id": "dyLMK7IFCNp9"
      }
    },
    {
      "cell_type": "code",
      "source": [
        "from transformers import pipeline\n",
        "\n",
        "question_answerer = pipeline(\"question-answering\", model=\"ckiplab/bert-base-chinese-qa\")\n",
        "question_answerer(\n",
        "    context=\"黃小明參加大甲鎮瀾宮繞境\",\n",
        "    question=\"黃小明參加甚麼活動?\",\n",
        ")"
      ],
      "metadata": {
        "id": "5D2j1vk1CO_b"
      },
      "execution_count": null,
      "outputs": []
    },
    {
      "cell_type": "code",
      "source": [
        "from transformers import pipeline\n",
        "\n",
        "summarizer = pipeline(\"summarization\")\n",
        "summarizer(\n",
        "    \"\"\"\n",
        "    台北市知名連鎖韓式炸雞店日前遭導盲犬使用者投訴，攜帶導盲犬前往用餐時，卻遭服務人員拒絕入內，事後將過程放上臉書，\n",
        "    店家事後也發文道歉，北市社會局也說，以要求業者限期改善，對員工教育訓練，若未改善或再犯最高將開罰5萬元，\n",
        "    並接受4小時講習\n",
        "\"\"\"\n",
        ")"
      ],
      "metadata": {
        "id": "Fke9SQ0ACQOL"
      },
      "execution_count": null,
      "outputs": []
    },
    {
      "cell_type": "code",
      "source": [
        "from transformers import pipeline\n",
        "\n",
        "translator = pipeline(\"translation\", model=\"DunnBC22/opus-mt-zh-en-Chinese_to_English\")\n",
        "translator(\"我參加大甲鎮瀾宮pilgrimage.\")"
      ],
      "metadata": {
        "id": "3m1TJjllCRqf"
      },
      "execution_count": null,
      "outputs": []
    }
  ]
}